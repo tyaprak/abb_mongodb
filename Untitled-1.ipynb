{
 "cells": [
  {
   "cell_type": "code",
   "execution_count": 1,
   "metadata": {},
   "outputs": [],
   "source": [
    "import pymongo\n",
    "client = pymongo.MongoClient('mongodb://localhost:27017/')\n",
    "db = client.abbr\n",
    "conn = db.abbr"
   ]
  },
  {
   "cell_type": "code",
   "execution_count": 56,
   "metadata": {},
   "outputs": [],
   "source": [
    "bd=[\n",
    "{\n",
    "    \"abbr\":\"AA\",\n",
    "    \"fullforms\":[\"Aerial Ally\",\"Another Ally\"],\n",
    "    \"v\":0\n",
    "},\n",
    "{\n",
    "    \"abbr\":\"AAB\",\n",
    "    \"fullforms\":[\"As a Block\"],\n",
    "    \"v\":0\n",
    "},\n",
    "{\n",
    "    \"abbr\":\"BF\",\n",
    "    \"fullforms\":[\"Best Friend\",\"Boy Friend\"],\n",
    "    \"v\":0\n",
    "},\n",
    "{\n",
    "    \"abbr\":\"TD\",\n",
    "    \"fullforms\":[\"Test Data\"],\n",
    "    \"v\":0\n",
    "},\n",
    "{\n",
    "    \"abbr\":\"FD\",\n",
    "    \"fullforms\":[\"Final Data\"],\n",
    "    \"v\":0\n",
    "}\n",
    "]"
   ]
  },
  {
   "cell_type": "code",
   "execution_count": 57,
   "metadata": {},
   "outputs": [
    {
     "data": {
      "text/plain": [
       "<pymongo.results.InsertManyResult at 0x1f15bcb6e60>"
      ]
     },
     "execution_count": 57,
     "metadata": {},
     "output_type": "execute_result"
    }
   ],
   "source": [
    "c.insert_many(bd)"
   ]
  },
  {
   "cell_type": "code",
   "execution_count": 59,
   "metadata": {},
   "outputs": [
    {
     "name": "stdout",
     "output_type": "stream",
     "text": [
      "2\n",
      "2\n"
     ]
    }
   ],
   "source": [
    "q = c.find({\"abbr\": \"AA\"})\n",
    "if q:\n",
    "    for a in q:\n",
    "        print(len(a[\"fullforms\"]))"
   ]
  },
  {
   "cell_type": "code",
   "execution_count": 43,
   "metadata": {},
   "outputs": [],
   "source": [
    "def cur():\n",
    "    c=client.abbr.abbr\n",
    "    return c"
   ]
  },
  {
   "cell_type": "code",
   "execution_count": 60,
   "metadata": {},
   "outputs": [],
   "source": [
    "a=cur()"
   ]
  },
  {
   "cell_type": "code",
   "execution_count": 63,
   "metadata": {},
   "outputs": [],
   "source": [
    "s=a.find({\"abbr\":\"FD\"})"
   ]
  },
  {
   "cell_type": "code",
   "execution_count": 64,
   "metadata": {},
   "outputs": [
    {
     "data": {
      "text/plain": [
       "pymongo.cursor.Cursor"
      ]
     },
     "execution_count": 64,
     "metadata": {},
     "output_type": "execute_result"
    }
   ],
   "source": [
    "type(s)"
   ]
  },
  {
   "cell_type": "code",
   "execution_count": 65,
   "metadata": {},
   "outputs": [
    {
     "name": "stdout",
     "output_type": "stream",
     "text": [
      "{'_id': ObjectId('63191c49257330b5912f796e'), 'abbr': 'FD', 'fullforms': ['Final Data'], 'v': 0}\n"
     ]
    }
   ],
   "source": [
    "for a in s:\n",
    "    print(a)"
   ]
  },
  {
   "cell_type": "code",
   "execution_count": 247,
   "metadata": {},
   "outputs": [],
   "source": [
    "import pymongo\n",
    "client = pymongo.MongoClient('mongodb://localhost:27017/')\n",
    "db = client.abbr\n",
    "conn = db.abbr\n",
    "class Data:\n",
    "    def __init__(self,abb):\n",
    "        self.abb=abb.upper()\n",
    "        self.target = { \"abbr\":abb }\n",
    "        self.data=conn.find(self.target)\n",
    "        self.tamData=conn.find().sort(\"abbr\",pymongo.ASCENDING)\n",
    "        self.t10=conn.find().sort(\"v\",pymongo.DESCENDING)\n",
    "        self.sorted_abbs=[]\n",
    "        for i in self.data:\n",
    "            self.ff=i[\"fullforms\"]\n",
    "            self.count=i[\"v\"]\n",
    "        for i in self.tamData:\n",
    "            self.sorted_abbs.append(i[\"abbr\"])\n",
    "        try:\n",
    "            if len(self.ff)>0:\n",
    "                self.isok=True\n",
    "        except:\n",
    "            self.isok=False\n",
    "    def sayac_arttir(self):\n",
    "        inc= { \"$inc\": { \"v\": 1 } }\n",
    "        conn.update_one(self.target,inc)\n",
    "    def veri_ekle(self,yeni):\n",
    "        push= { \"$push\": { \"fullforms\": yeni } }\n",
    "        conn.update_one(self.target,push)\n",
    "    def kayit_olustur(self,ff):\n",
    "        veri={\n",
    "            \"abbr\":self.abb,\n",
    "            \"fullforms\":[ff],\n",
    "            \"v\":0\n",
    "        }\n",
    "        conn.insert_one(veri)"
   ]
  },
  {
   "cell_type": "code",
   "execution_count": 248,
   "metadata": {},
   "outputs": [],
   "source": [
    "s=Data(\"AA\")"
   ]
  },
  {
   "cell_type": "code",
   "execution_count": 241,
   "metadata": {},
   "outputs": [
    {
     "data": {
      "text/plain": [
       "True"
      ]
     },
     "execution_count": 241,
     "metadata": {},
     "output_type": "execute_result"
    }
   ],
   "source": [
    "s.isok"
   ]
  },
  {
   "cell_type": "code",
   "execution_count": 242,
   "metadata": {},
   "outputs": [
    {
     "data": {
      "text/plain": [
       "['Aerial Ally', 'Another Ally', 'All About']"
      ]
     },
     "execution_count": 242,
     "metadata": {},
     "output_type": "execute_result"
    }
   ],
   "source": [
    "s.ff"
   ]
  },
  {
   "cell_type": "code",
   "execution_count": 218,
   "metadata": {},
   "outputs": [],
   "source": [
    "s.veri_ekle(\"Turkish Air Alliance\")"
   ]
  },
  {
   "cell_type": "code",
   "execution_count": 213,
   "metadata": {},
   "outputs": [],
   "source": [
    "s.kayit_olustur(ff=\"Technical Assistance Advice\")"
   ]
  },
  {
   "cell_type": "code",
   "execution_count": 220,
   "metadata": {},
   "outputs": [],
   "source": [
    "s.sayac_arttir()"
   ]
  },
  {
   "cell_type": "code",
   "execution_count": 238,
   "metadata": {},
   "outputs": [
    {
     "name": "stdout",
     "output_type": "stream",
     "text": [
      "{'_id': ObjectId('631a558b257330b5912f7991'), 'abbr': 'TAA', 'fullforms': ['Technical Assistance Advice', 'Turkish Air Alliance'], 'v': 2}\n",
      "{'_id': ObjectId('63191c49257330b5912f796a'), 'abbr': 'AA', 'fullforms': ['Aerial Ally', 'Another Ally', 'All About'], 'v': 1}\n",
      "{'_id': ObjectId('63191c49257330b5912f796e'), 'abbr': 'FD', 'fullforms': ['Final Data'], 'v': 1}\n",
      "{'_id': ObjectId('63191c49257330b5912f796b'), 'abbr': 'AAB', 'fullforms': ['As a Block'], 'v': 0}\n",
      "{'_id': ObjectId('63191c49257330b5912f796c'), 'abbr': 'BF', 'fullforms': ['Best Friend', 'Boy Friend'], 'v': 0}\n",
      "{'_id': ObjectId('63191c49257330b5912f796d'), 'abbr': 'TD', 'fullforms': ['Test Data'], 'v': 0}\n"
     ]
    }
   ],
   "source": [
    "for a in s.t10:\n",
    "    print(a)"
   ]
  },
  {
   "cell_type": "code",
   "execution_count": 249,
   "metadata": {},
   "outputs": [
    {
     "data": {
      "text/plain": [
       "['AA', 'AAB', 'BF', 'FD', 'TAA', 'TD']"
      ]
     },
     "execution_count": 249,
     "metadata": {},
     "output_type": "execute_result"
    }
   ],
   "source": [
    "s.sorted_abbs"
   ]
  },
  {
   "cell_type": "code",
   "execution_count": null,
   "metadata": {},
   "outputs": [],
   "source": []
  }
 ],
 "metadata": {
  "kernelspec": {
   "display_name": "Python 3.10.7 64-bit (microsoft store)",
   "language": "python",
   "name": "python3"
  },
  "language_info": {
   "codemirror_mode": {
    "name": "ipython",
    "version": 3
   },
   "file_extension": ".py",
   "mimetype": "text/x-python",
   "name": "python",
   "nbconvert_exporter": "python",
   "pygments_lexer": "ipython3",
   "version": "3.10.7"
  },
  "orig_nbformat": 4,
  "vscode": {
   "interpreter": {
    "hash": "000c1bf2fd67a36105e6b2df7cac0b5da6ccf2e88322d7811fa107583d37c673"
   }
  }
 },
 "nbformat": 4,
 "nbformat_minor": 2
}
